{
 "cells": [
  {
   "cell_type": "code",
   "execution_count": 9,
   "id": "fec7fe9a",
   "metadata": {},
   "outputs": [
    {
     "name": "stdout",
     "output_type": "stream",
     "text": [
      "enter the number135\n"
     ]
    },
    {
     "data": {
      "text/plain": [
       "False"
      ]
     },
     "execution_count": 9,
     "metadata": {},
     "output_type": "execute_result"
    }
   ],
   "source": [
    "#Linear Search Algorithm\n",
    "\n",
    "a = [12,23,4,56,7,87,8898,8976,67]\n",
    "b = int(input(\"enter the number\"))\n",
    "def inp(b):\n",
    "    for i in range(len(a)):\n",
    "        if a[i] == b:\n",
    "            return True\n",
    "    else :\n",
    "        return False\n",
    "inp(b)    "
   ]
  },
  {
   "cell_type": "code",
   "execution_count": 24,
   "id": "2f0feb8f",
   "metadata": {},
   "outputs": [
    {
     "name": "stdout",
     "output_type": "stream",
     "text": [
      "enter the number: 12\n"
     ]
    },
    {
     "data": {
      "text/plain": [
       "False"
      ]
     },
     "execution_count": 24,
     "metadata": {},
     "output_type": "execute_result"
    }
   ],
   "source": [
    "\n",
    "#binary search algortihm\n",
    "\n",
    "a = [1,2,3,4,5,6,7,8,9]\n",
    "b = int(input(\"enter the number: \"))\n",
    "\n",
    "def inru(a, b):\n",
    "    if len(a) == 0:\n",
    "        return False\n",
    "    else:\n",
    "        midpoint = len(a) // 2 \n",
    "        if a[midpoint] == b:\n",
    "            return True\n",
    "        else: \n",
    "            if b<a[midpoint]:\n",
    "                return inru(a[:midpoint], b)\n",
    "            else:\n",
    "                return inru(a[midpoint+1: ], b)\n",
    "inru(a,b)\n"
   ]
  },
  {
   "cell_type": "code",
   "execution_count": 36,
   "id": "82091bcc",
   "metadata": {},
   "outputs": [
    {
     "data": {
      "text/plain": [
       "True"
      ]
     },
     "execution_count": 36,
     "metadata": {},
     "output_type": "execute_result"
    }
   ],
   "source": [
    "def binarysearch(a, b):\n",
    "    first = 0\n",
    "    last = len(a) - 1\n",
    "    \n",
    "    while first <= last:\n",
    "        midpoint = (first + last) // 2  # Calculate midpoint\n",
    "        \n",
    "        if a[midpoint] == b:\n",
    "            return True  # Return True if item is found\n",
    "        elif b < a[midpoint]:\n",
    "            last = midpoint - 1  # Adjust last to search left half\n",
    "        else:\n",
    "            first = midpoint + 1  # Adjust first to search right half\n",
    "    \n",
    "    return False  # Return False if item is not found\n",
    "\n",
    "# Example usage:\n",
    "a = [1, 3, 5, 7, 9, 11, 13, 15, 17, 19]\n",
    "b = 9\n",
    "binarysearch(a, b)\n"
   ]
  },
  {
   "cell_type": "code",
   "execution_count": 2,
   "id": "3b59a67a",
   "metadata": {},
   "outputs": [
    {
     "data": {
      "text/plain": [
       "[1, 2, 4]"
      ]
     },
     "execution_count": 2,
     "metadata": {},
     "output_type": "execute_result"
    }
   ],
   "source": [
    "'''Given two integer arrays nums1 and nums2, return an array of their intersection. Each element in the result must appear as many times as it shows in both arrays and you may return the result in any order.\n",
    "\n",
    " \n",
    "\n",
    "Example 1:\n",
    "\n",
    "Input: nums1 = [1,2,2,1], nums2 = [2,2]\n",
    "Output: [2,2]\n",
    "Example 2:\n",
    "\n",
    "Input: nums1 = [4,9,5], nums2 = [9,4,9,8,4]\n",
    "Output: [4,9]\n",
    "Explanation: [9,4] is also accepted.'''\n",
    "\n",
    "\n",
    "\n",
    "\n",
    "\n",
    "from collections import Counter\n",
    "from typing import List\n",
    "def intersect(nums1: List[int], nums2: List[int]) -> List[int]:\n",
    "        frq = Counter(nums1)\n",
    "        result = []\n",
    "        for num in nums2:\n",
    "            if num in frq and frq[num] > 0:\n",
    "                result.append(num)\n",
    "                frq[num] -= 1\n",
    "        return result\n",
    "nums1 = [1,2,3,4,4,6,6,1]\n",
    "nums2 = [1,2,4,5]\n",
    "intersect(nums1, nums2)"
   ]
  },
  {
   "cell_type": "code",
   "execution_count": 19,
   "id": "056541b1",
   "metadata": {},
   "outputs": [
    {
     "data": {
      "text/plain": [
       "[1, 2, 4]"
      ]
     },
     "execution_count": 19,
     "metadata": {},
     "output_type": "execute_result"
    }
   ],
   "source": [
    "'''Given two integer arrays nums1 and nums2, return an array of their intersection. Each element in the result must appear as many times as it shows in both arrays and you may return the result in any order.\n",
    "\n",
    " \n",
    "\n",
    "Example 1:\n",
    "\n",
    "Input: nums1 = [1,2,2,1], nums2 = [2,2]\n",
    "Output: [2,2]\n",
    "Example 2:\n",
    "\n",
    "Input: nums1 = [4,9,5], nums2 = [9,4,9,8,4]\n",
    "Output: [4,9]\n",
    "Explanation: [9,4] is also accepted.'''\n",
    "\n",
    "\n",
    "\n",
    "def intersect(nums1: List[int], nums2: List[int]) -> List[int]:\n",
    "        inters = []\n",
    "        for i in nums1:\n",
    "            if i in nums2:\n",
    "                inters.append(i)\n",
    "                nums2.remove(i)\n",
    "        return inters\n",
    "nums1 = [1,2,3,4,4,6,6,1]\n",
    "nums2 = [1,2,4,5]\n",
    "intersect(nums1, nums2)"
   ]
  },
  {
   "cell_type": "code",
   "execution_count": null,
   "id": "de382714",
   "metadata": {},
   "outputs": [],
   "source": []
  },
  {
   "cell_type": "code",
   "execution_count": 21,
   "id": "03f49ded",
   "metadata": {},
   "outputs": [
    {
     "data": {
      "text/plain": [
       "(1, 4)"
      ]
     },
     "execution_count": 21,
     "metadata": {},
     "output_type": "execute_result"
    }
   ],
   "source": [
    "'''return index of th element in the array whaich has sum equal to target'''\n",
    "\n",
    "target = 9\n",
    "def check(num):\n",
    "    for i in range(len(num)):\n",
    "        for j in range(i +1, len(num)):\n",
    "            if num[i] + num[j] == target:  \n",
    "                return i,j\n",
    "    return None\n",
    "num = [1,2,3,4,7]\n",
    "check(num)\n",
    "    "
   ]
  },
  {
   "cell_type": "code",
   "execution_count": 40,
   "id": "0d883ead",
   "metadata": {},
   "outputs": [],
   "source": [
    "target = 9\n",
    "def check(num):\n",
    "    i = 0 \n",
    "    j = len(num) - 1 \n",
    "    while i < j:\n",
    "        if num[i] + num[j] == target:\n",
    "            return i,j\n",
    "        elif num[i] + num[j] < target:\n",
    "            i += 1\n",
    "        else:\n",
    "            j -= 1\n",
    "            \n",
    "num = [1,2,3,4,7]\n",
    "check(num)"
   ]
  },
  {
   "cell_type": "code",
   "execution_count": 34,
   "id": "e7ac21c1",
   "metadata": {},
   "outputs": [
    {
     "data": {
      "text/plain": [
       "False"
      ]
     },
     "execution_count": 34,
     "metadata": {},
     "output_type": "execute_result"
    }
   ],
   "source": [
    "def is_palindrome(num):\n",
    "    num = num.replace(\" \", \"\").lower()\n",
    "    \n",
    "    l = 0 \n",
    "    r = len(num) - 1\n",
    "    \n",
    "    while l < r:\n",
    "        if num[l] != num[r]:\n",
    "            return False\n",
    "        l += 1\n",
    "        r -= 1\n",
    "    return True\n",
    "num = (\"race a car\")\n",
    "is_palindrome(num)"
   ]
  },
  {
   "cell_type": "code",
   "execution_count": 47,
   "id": "82056d43",
   "metadata": {},
   "outputs": [
    {
     "data": {
      "text/plain": [
       "True"
      ]
     },
     "execution_count": 47,
     "metadata": {},
     "output_type": "execute_result"
    }
   ],
   "source": [
    "'''Checking Duplicate in the list'''\n",
    "\n",
    "def check_dup(num):\n",
    "    i = 0\n",
    "    j = len(num) - 1\n",
    "    while i < j:\n",
    "        if num[i] == num[j]:\n",
    "            return True\n",
    "        i += 1\n",
    "        j -= 1\n",
    "    return False\n",
    "num = [1,2,3]\n",
    "check_dup(num)\n",
    "\n",
    "\n",
    "\n",
    "#2\n",
    "\n",
    "def check_duplicate(nums):\n",
    "    hashset = set()\n",
    "    for i in nums:\n",
    "        if i in hashset:\n",
    "            return True\n",
    "        hashset.add(i)\n",
    "    return False\n",
    "\n",
    "num = [1,2,3,1]\n",
    "check_duplicate(num)\n"
   ]
  },
  {
   "cell_type": "code",
   "execution_count": 4,
   "id": "5ffc2c22",
   "metadata": {},
   "outputs": [
    {
     "data": {
      "text/plain": [
       "True"
      ]
     },
     "execution_count": 4,
     "metadata": {},
     "output_type": "execute_result"
    }
   ],
   "source": [
    "def check_duplicate(num):\n",
    "    hashset = set()\n",
    "    for i in num:\n",
    "        if i in hashset:\n",
    "            return True\n",
    "        hashset.add(i)\n",
    "    return False\n",
    "num = [1,2,3,1]\n",
    "check_duplicate(num)\n"
   ]
  },
  {
   "cell_type": "code",
   "execution_count": 4,
   "id": "5833b94d-a127-4496-8427-c9e3d1e8722b",
   "metadata": {},
   "outputs": [
    {
     "data": {
      "text/plain": [
       "[[-3, 1, 2]]"
      ]
     },
     "execution_count": 4,
     "metadata": {},
     "output_type": "execute_result"
    }
   ],
   "source": [
    "\n",
    "    def threeSum(nums):\n",
    "        res = []\n",
    "        nums.sort()\n",
    "\n",
    "        for i, a in enumerate(nums):\n",
    "            # Skip positive integers\n",
    "            if a > 0:\n",
    "                break\n",
    "\n",
    "            if i > 0 and a == nums[i - 1]:\n",
    "                continue\n",
    "\n",
    "            l, r = i + 1, len(nums) - 1\n",
    "            while l < r:\n",
    "                threeSum = a + nums[l] + nums[r]\n",
    "                if threeSum > 0:\n",
    "                    r -= 1\n",
    "                elif threeSum < 0:\n",
    "                    l += 1\n",
    "                else:\n",
    "                    res.append([a, nums[l], nums[r]])\n",
    "                    l += 1\n",
    "                    r -= 1\n",
    "                    while nums[l] == nums[l - 1] and l < r:\n",
    "                        l += 1\n",
    "                        \n",
    "        return res\n",
    "nums = [-3,3,4,-3,1,2]\n",
    "threeSum(nums)"
   ]
  },
  {
   "cell_type": "code",
   "execution_count": 6,
   "id": "beaa9be6",
   "metadata": {},
   "outputs": [
    {
     "ename": "TypeError",
     "evalue": "object of type 'int' has no len()",
     "output_type": "error",
     "traceback": [
      "\u001b[1;31m---------------------------------------------------------------------------\u001b[0m",
      "\u001b[1;31mTypeError\u001b[0m                                 Traceback (most recent call last)",
      "Cell \u001b[1;32mIn[6], line 13\u001b[0m\n\u001b[0;32m     10\u001b[0m                 r \u001b[38;5;241m-\u001b[39m\u001b[38;5;241m=\u001b[39m \u001b[38;5;241m1\u001b[39m\n\u001b[0;32m     12\u001b[0m         \u001b[38;5;28;01mreturn\u001b[39;00m res\n\u001b[1;32m---> 13\u001b[0m maxArea(\u001b[38;5;241m23\u001b[39m)\n",
      "Cell \u001b[1;32mIn[6], line 2\u001b[0m, in \u001b[0;36mmaxArea\u001b[1;34m(height)\u001b[0m\n\u001b[0;32m      1\u001b[0m \u001b[38;5;28;01mdef\u001b[39;00m \u001b[38;5;21mmaxArea\u001b[39m(height):\n\u001b[1;32m----> 2\u001b[0m         l, r \u001b[38;5;241m=\u001b[39m \u001b[38;5;241m0\u001b[39m, \u001b[38;5;28mlen\u001b[39m(height) \u001b[38;5;241m-\u001b[39m \u001b[38;5;241m1\u001b[39m\n\u001b[0;32m      3\u001b[0m         res \u001b[38;5;241m=\u001b[39m \u001b[38;5;241m0\u001b[39m\n\u001b[0;32m      5\u001b[0m         \u001b[38;5;28;01mwhile\u001b[39;00m l \u001b[38;5;241m<\u001b[39m r:\n",
      "\u001b[1;31mTypeError\u001b[0m: object of type 'int' has no len()"
     ]
    }
   ],
   "source": [
    "def maxArea(height):\n",
    "        l, r = 0, len(height) - 1\n",
    "        res = 0\n",
    "\n",
    "        while l < r:\n",
    "            res = max(res, min(height[l], height[r]) * (r - l))\n",
    "            if height[l] < height[r]:\n",
    "                l += 1\n",
    "            elif height[r] <= height[l]:\n",
    "                r -= 1\n",
    "            \n",
    "        return res\n",
    "maxArea(23)"
   ]
  },
  {
   "cell_type": "code",
   "execution_count": null,
   "id": "ab6a7d79",
   "metadata": {},
   "outputs": [],
   "source": [
    "\n",
    "    def maxArea( height):\n",
    "        l, r = 0, len(height) - 1\n",
    "        res = 0\n",
    "\n",
    "        while l < r:\n",
    "            res = max(res, min(height[l], height[r]) * (r - l))\n",
    "            if height[l] < height[r]:\n",
    "                l += 1\n",
    "            elif height[r] <= height[l]:\n",
    "                r -= 1\n",
    "            \n",
    "        return res\n"
   ]
  },
  {
   "cell_type": "code",
   "execution_count": null,
   "id": "879a031d",
   "metadata": {},
   "outputs": [],
   "source": [
    "\n",
    "def isValid( s) :\n",
    "        Map = {\")\": \"(\", \"]\": \"[\", \"}\": \"{\"}\n",
    "        stack = []\n",
    "\n",
    "        for c in s:\n",
    "            if c not in Map:\n",
    "                stack.append(c)\n",
    "                continue\n",
    "            if not stack or stack[-1] != Map[c]:\n",
    "                return False\n",
    "            stack.pop()\n",
    "\n",
    "        return not stack\n"
   ]
  },
  {
   "cell_type": "code",
   "execution_count": null,
   "id": "15fd904e",
   "metadata": {},
   "outputs": [],
   "source": [
    "def carFleet(target, position, speed) :\n",
    "        pair = [(p, s) for p, s in zip(position, speed)]\n",
    "        pair.sort(reverse=True)\n",
    "        stack = []\n",
    "        for p, s in pair:  # Reverse Sorted Order\n",
    "            stack.append((target - p) / s)\n",
    "            if len(stack) >= 2 and stack[-1] <= stack[-2]:\n",
    "                stack.pop()\n",
    "        return len(stack)\n"
   ]
  },
  {
   "cell_type": "code",
   "execution_count": null,
   "id": "c88fe798",
   "metadata": {},
   "outputs": [],
   "source": [
    "\n",
    "def reverseList( ListNode):\n",
    "        prev, curr = None, head\n",
    "\n",
    "        while curr:\n",
    "            temp = curr.next\n",
    "            curr.next = prev\n",
    "            prev = curr\n",
    "            curr = temp\n",
    "        return prev"
   ]
  },
  {
   "cell_type": "code",
   "execution_count": null,
   "id": "ede95ae9",
   "metadata": {},
   "outputs": [],
   "source": [
    "def maxProfit( prices) :\n",
    "        res = 0\n",
    "        \n",
    "        lowest = prices[0]\n",
    "        for price in prices:\n",
    "            if price < lowest:\n",
    "                lowest = price\n",
    "            res = max(res, price - lowest)\n",
    "        return res"
   ]
  },
  {
   "cell_type": "code",
   "execution_count": null,
   "id": "66d46057",
   "metadata": {},
   "outputs": [],
   "source": [
    "def hasCycle( ListNode):\n",
    "        slow, fast = head, head\n",
    "\n",
    "        while fast and fast.next:\n",
    "            slow = slow.next\n",
    "            fast = fast.next.next\n",
    "            if slow == fast:\n",
    "                return True\n",
    "        return False"
   ]
  },
  {
   "cell_type": "code",
   "execution_count": null,
   "id": "8931394b",
   "metadata": {},
   "outputs": [],
   "source": [
    "def threeSum( nums) :\n",
    "        res = []\n",
    "        nums.sort()\n",
    "\n",
    "        for i, a in enumerate(nums):\n",
    "            # Skip positive integers\n",
    "            if a > 0:\n",
    "                break\n",
    "\n",
    "            if i > 0 and a == nums[i - 1]:\n",
    "                continue\n",
    "\n",
    "            l, r = i + 1, len(nums) - 1\n",
    "            while l < r:\n",
    "                threeSum = a + nums[l] + nums[r]\n",
    "                if threeSum > 0:\n",
    "                    r -= 1\n",
    "                elif threeSum < 0:\n",
    "                    l += 1\n",
    "                else:\n",
    "                    res.append([a, nums[l], nums[r]])\n",
    "                    l += 1\n",
    "                    r -= 1\n",
    "                    while nums[l] == nums[l - 1] and l < r:\n",
    "                        l += 1\n",
    "                        \n",
    "        return res"
   ]
  }
 ],
 "metadata": {
  "kernelspec": {
   "display_name": "Python 3 (ipykernel)",
   "language": "python",
   "name": "python3"
  },
  "language_info": {
   "codemirror_mode": {
    "name": "ipython",
    "version": 3
   },
   "file_extension": ".py",
   "mimetype": "text/x-python",
   "name": "python",
   "nbconvert_exporter": "python",
   "pygments_lexer": "ipython3",
   "version": "3.11.5"
  }
 },
 "nbformat": 4,
 "nbformat_minor": 5
}
