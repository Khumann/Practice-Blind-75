{
 "cells": [
  {
   "cell_type": "code",
   "execution_count": 9,
   "id": "fec7fe9a",
   "metadata": {},
   "outputs": [
    {
     "name": "stdout",
     "output_type": "stream",
     "text": [
      "enter the number135\n"
     ]
    },
    {
     "data": {
      "text/plain": [
       "False"
      ]
     },
     "execution_count": 9,
     "metadata": {},
     "output_type": "execute_result"
    }
   ],
   "source": [
    "#Linear Search Algorithm\n",
    "\n",
    "a = [12,23,4,56,7,87,8898,8976,67]\n",
    "b = int(input(\"enter the number\"))\n",
    "def inp(b):\n",
    "    for i in range(len(a)):\n",
    "        if a[i] == b:\n",
    "            return True\n",
    "    else :\n",
    "        return False\n",
    "inp(b)    "
   ]
  },
  {
   "cell_type": "code",
   "execution_count": 24,
   "id": "2f0feb8f",
   "metadata": {},
   "outputs": [
    {
     "name": "stdout",
     "output_type": "stream",
     "text": [
      "enter the number: 12\n"
     ]
    },
    {
     "data": {
      "text/plain": [
       "False"
      ]
     },
     "execution_count": 24,
     "metadata": {},
     "output_type": "execute_result"
    }
   ],
   "source": [
    "\n",
    "#binary search algortihm\n",
    "\n",
    "a = [1,2,3,4,5,6,7,8,9]\n",
    "b = int(input(\"enter the number: \"))\n",
    "\n",
    "def inru(a, b):\n",
    "    if len(a) == 0:\n",
    "        return False\n",
    "    else:\n",
    "        midpoint = len(a) // 2 \n",
    "        if a[midpoint] == b:\n",
    "            return True\n",
    "        else: \n",
    "            if b<a[midpoint]:\n",
    "                return inru(a[:midpoint], b)\n",
    "            else:\n",
    "                return inru(a[midpoint+1: ], b)\n",
    "inru(a,b)\n"
   ]
  },
  {
   "cell_type": "code",
   "execution_count": 36,
   "id": "82091bcc",
   "metadata": {},
   "outputs": [
    {
     "data": {
      "text/plain": [
       "True"
      ]
     },
     "execution_count": 36,
     "metadata": {},
     "output_type": "execute_result"
    }
   ],
   "source": [
    "def binarysearch(a, b):\n",
    "    first = 0\n",
    "    last = len(a) - 1\n",
    "    \n",
    "    while first <= last:\n",
    "        midpoint = (first + last) // 2  # Calculate midpoint\n",
    "        \n",
    "        if a[midpoint] == b:\n",
    "            return True  # Return True if item is found\n",
    "        elif b < a[midpoint]:\n",
    "            last = midpoint - 1  # Adjust last to search left half\n",
    "        else:\n",
    "            first = midpoint + 1  # Adjust first to search right half\n",
    "    \n",
    "    return False  # Return False if item is not found\n",
    "\n",
    "# Example usage:\n",
    "a = [1, 3, 5, 7, 9, 11, 13, 15, 17, 19]\n",
    "b = 9\n",
    "binarysearch(a, b)\n"
   ]
  },
  {
   "cell_type": "code",
   "execution_count": 2,
   "id": "3b59a67a",
   "metadata": {},
   "outputs": [
    {
     "data": {
      "text/plain": [
       "[1, 2, 4]"
      ]
     },
     "execution_count": 2,
     "metadata": {},
     "output_type": "execute_result"
    }
   ],
   "source": [
    "'''Given two integer arrays nums1 and nums2, return an array of their intersection. Each element in the result must appear as many times as it shows in both arrays and you may return the result in any order.\n",
    "\n",
    " \n",
    "\n",
    "Example 1:\n",
    "\n",
    "Input: nums1 = [1,2,2,1], nums2 = [2,2]\n",
    "Output: [2,2]\n",
    "Example 2:\n",
    "\n",
    "Input: nums1 = [4,9,5], nums2 = [9,4,9,8,4]\n",
    "Output: [4,9]\n",
    "Explanation: [9,4] is also accepted.'''\n",
    "\n",
    "\n",
    "\n",
    "\n",
    "\n",
    "from collections import Counter\n",
    "from typing import List\n",
    "def intersect(nums1: List[int], nums2: List[int]) -> List[int]:\n",
    "        frq = Counter(nums1)\n",
    "        result = []\n",
    "        for num in nums2:\n",
    "            if num in frq and frq[num] > 0:\n",
    "                result.append(num)\n",
    "                frq[num] -= 1\n",
    "        return result\n",
    "nums1 = [1,2,3,4,4,6,6,1]\n",
    "nums2 = [1,2,4,5]\n",
    "intersect(nums1, nums2)"
   ]
  },
  {
   "cell_type": "code",
   "execution_count": 19,
   "id": "056541b1",
   "metadata": {},
   "outputs": [
    {
     "data": {
      "text/plain": [
       "[1, 2, 4]"
      ]
     },
     "execution_count": 19,
     "metadata": {},
     "output_type": "execute_result"
    }
   ],
   "source": [
    "'''Given two integer arrays nums1 and nums2, return an array of their intersection. Each element in the result must appear as many times as it shows in both arrays and you may return the result in any order.\n",
    "\n",
    " \n",
    "\n",
    "Example 1:\n",
    "\n",
    "Input: nums1 = [1,2,2,1], nums2 = [2,2]\n",
    "Output: [2,2]\n",
    "Example 2:\n",
    "\n",
    "Input: nums1 = [4,9,5], nums2 = [9,4,9,8,4]\n",
    "Output: [4,9]\n",
    "Explanation: [9,4] is also accepted.'''\n",
    "\n",
    "\n",
    "\n",
    "def intersect(nums1: List[int], nums2: List[int]) -> List[int]:\n",
    "        inters = []\n",
    "        for i in nums1:\n",
    "            if i in nums2:\n",
    "                inters.append(i)\n",
    "                nums2.remove(i)\n",
    "        return inters\n",
    "nums1 = [1,2,3,4,4,6,6,1]\n",
    "nums2 = [1,2,4,5]\n",
    "intersect(nums1, nums2)"
   ]
  },
  {
   "cell_type": "code",
   "execution_count": null,
   "id": "de382714",
   "metadata": {},
   "outputs": [],
   "source": []
  },
  {
   "cell_type": "code",
   "execution_count": 21,
   "id": "03f49ded",
   "metadata": {},
   "outputs": [
    {
     "data": {
      "text/plain": [
       "(1, 4)"
      ]
     },
     "execution_count": 21,
     "metadata": {},
     "output_type": "execute_result"
    }
   ],
   "source": [
    "'''return index of th element in the array whaich has sum equal to target'''\n",
    "\n",
    "target = 9\n",
    "def check(num):\n",
    "    for i in range(len(num)):\n",
    "        for j in range(i +1, len(num)):\n",
    "            if num[i] + num[j] == target:  \n",
    "                return i,j\n",
    "    return None\n",
    "num = [1,2,3,4,7]\n",
    "check(num)\n",
    "    "
   ]
  },
  {
   "cell_type": "code",
   "execution_count": 2,
   "id": "0d883ead",
   "metadata": {},
   "outputs": [
    {
     "data": {
      "text/plain": [
       "(1, 4)"
      ]
     },
     "execution_count": 2,
     "metadata": {},
     "output_type": "execute_result"
    }
   ],
   "source": [
    "target = 9\n",
    "def check(num):\n",
    "    i = 0 \n",
    "    j = len(num) - 1 \n",
    "    while i < j:\n",
    "        if num[i] + num[j] == target:\n",
    "            return i,j\n",
    "        elif num[i] + num[j] < target:\n",
    "            i += 1\n",
    "        else:\n",
    "            j -= 1\n",
    "            \n",
    "num = [1,2,3,4,7]\n",
    "check(num)"
   ]
  },
  {
   "cell_type": "code",
   "execution_count": 34,
   "id": "e7ac21c1",
   "metadata": {},
   "outputs": [
    {
     "data": {
      "text/plain": [
       "False"
      ]
     },
     "execution_count": 34,
     "metadata": {},
     "output_type": "execute_result"
    }
   ],
   "source": [
    "def is_palindrome(num):\n",
    "    num = num.replace(\" \", \"\").lower()\n",
    "    \n",
    "    l = 0 \n",
    "    r = len(num) - 1\n",
    "    \n",
    "    while l < r:\n",
    "        if num[l] != num[r]:\n",
    "            return False\n",
    "        l += 1\n",
    "        r -= 1\n",
    "    return True\n",
    "num = (\"race a car\")\n",
    "is_palindrome(num)"
   ]
  },
  {
   "cell_type": "code",
   "execution_count": 47,
   "id": "82056d43",
   "metadata": {},
   "outputs": [
    {
     "data": {
      "text/plain": [
       "True"
      ]
     },
     "execution_count": 47,
     "metadata": {},
     "output_type": "execute_result"
    }
   ],
   "source": [
    "'''Checking Duplicate in the list'''\n",
    "\n",
    "def check_dup(num):\n",
    "    i = 0\n",
    "    j = len(num) - 1\n",
    "    while i < j:\n",
    "        if num[i] == num[j]:\n",
    "            return True\n",
    "        i += 1\n",
    "        j -= 1\n",
    "    return False\n",
    "num = [1,2,3]\n",
    "check_dup(num)\n",
    "\n",
    "\n",
    "\n",
    "#2\n",
    "\n",
    "def check_duplicate(nums):\n",
    "    hashset = set()\n",
    "    for i in nums:\n",
    "        if i in hashset:\n",
    "            return True\n",
    "        hashset.add(i)\n",
    "    return False\n",
    "\n",
    "num = [1,2,3,1]\n",
    "check_duplicate(num)\n"
   ]
  },
  {
   "cell_type": "code",
   "execution_count": 1,
   "id": "5ffc2c22",
   "metadata": {},
   "outputs": [
    {
     "data": {
      "text/plain": [
       "True"
      ]
     },
     "execution_count": 1,
     "metadata": {},
     "output_type": "execute_result"
    }
   ],
   "source": [
    "def check_duplicate(num):\n",
    "    hashset = set()\n",
    "    for i in num:\n",
    "        if i in hashset:\n",
    "            return True\n",
    "        hashset.add(i)\n",
    "    return False\n",
    "num = [1,2,3,1]\n",
    "check_duplicate(num)\n"
   ]
  },
  {
   "cell_type": "code",
   "execution_count": null,
   "id": "5833b94d-a127-4496-8427-c9e3d1e8722b",
   "metadata": {},
   "outputs": [],
   "source": [
    "    def groupAnagrams(self, strs: List[str]) -> List[List[str]]:\n",
    "        ans = collections.defaultdict(list)\n",
    "\n",
    "        for s in strs:\n",
    "            count = [0] * 26\n",
    "            for c in s:\n",
    "                count[ord(c) - ord(\"a\")] += 1\n",
    "            ans[tuple(count)].append(s)\n",
    "        return ans.values()"
   ]
  }
 ],
 "metadata": {
  "kernelspec": {
   "display_name": "Python 3 (ipykernel)",
   "language": "python",
   "name": "python3"
  },
  "language_info": {
   "codemirror_mode": {
    "name": "ipython",
    "version": 3
   },
   "file_extension": ".py",
   "mimetype": "text/x-python",
   "name": "python",
   "nbconvert_exporter": "python",
   "pygments_lexer": "ipython3",
   "version": "3.11.5"
  }
 },
 "nbformat": 4,
 "nbformat_minor": 5
}
